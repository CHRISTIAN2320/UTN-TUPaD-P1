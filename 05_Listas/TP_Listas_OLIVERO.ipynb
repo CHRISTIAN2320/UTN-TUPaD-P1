{
 "cells": [
  {
   "cell_type": "markdown",
   "id": "88146e35",
   "metadata": {},
   "source": [
    "1) Crear una lista con los números del 1 al 100 que sean múltiplos de 4. Utilizar la función \n",
    "range."
   ]
  },
  {
   "cell_type": "code",
   "execution_count": 3,
   "id": "29becb6c",
   "metadata": {},
   "outputs": [
    {
     "name": "stdout",
     "output_type": "stream",
     "text": [
      "[4, 8, 12, 16, 20, 24, 28, 32, 36, 40, 44, 48, 52, 56, 60, 64, 68, 72, 76, 80, 84, 88, 92, 96]\n"
     ]
    }
   ],
   "source": [
    "lista1= list(range(4,100,4))\n",
    "print(lista1)"
   ]
  },
  {
   "cell_type": "markdown",
   "id": "dde747f8",
   "metadata": {},
   "source": [
    "2) Crear una lista con cinco elementos (colocar los elementos que más te gusten) y mostrar el \n",
    "penúltimo. ¡Puedes hacerlo como se muestra en los videos o bien investigar cómo funciona el \n",
    "indexing con números negativos! "
   ]
  },
  {
   "cell_type": "code",
   "execution_count": 9,
   "id": "f50a8d43",
   "metadata": {},
   "outputs": [
    {
     "name": "stdout",
     "output_type": "stream",
     "text": [
      "Sql\n",
      "Sql\n"
     ]
    }
   ],
   "source": [
    "lista2=[\"python\" ,\"C#\", \"java\", \"JavaScript\" ,\"Sql\", \"Go\" ]\n",
    "print(lista2[4])\n",
    "print(lista2[-2])"
   ]
  },
  {
   "cell_type": "markdown",
   "id": "57b4d099",
   "metadata": {},
   "source": [
    "3) Crear una lista vacía, agregar tres palabras con append e imprimir la lista resultante por \n",
    "pantalla. Pista: para crear una lista vacía debes colocar los corchetes sin nada en su interior. Por \n",
    "ejemplo: \n",
    "lista_vacia = [] "
   ]
  },
  {
   "cell_type": "code",
   "execution_count": 13,
   "id": "58198fb5",
   "metadata": {},
   "outputs": [
    {
     "name": "stdout",
     "output_type": "stream",
     "text": [
      "['H', 'O', 'L', 'A']\n"
     ]
    }
   ],
   "source": [
    "lista_vacia3 = [] \n",
    "lista_vacia3.append(\"H\")\n",
    "lista_vacia3.append(\"O\")\n",
    "lista_vacia3.append(\"L\")\n",
    "lista_vacia3.append(\"A\")\n",
    "print(lista_vacia3)"
   ]
  },
  {
   "cell_type": "markdown",
   "id": "6a14d8e3",
   "metadata": {},
   "source": [
    "4) Reemplazar el segundo y último valor de la lista “animales” con las palabras “loro” y “oso”, \n",
    "respectivamente.  Imprimir la lista resultante por pantalla. ¡Puedes hacerlo como se muestra \n",
    "en los videos o bien investigar cómo funciona el indexing con números negativos! \n",
    "animales = [\"perro\", \"gato\", \"conejo\", \"pez\"] "
   ]
  },
  {
   "cell_type": "code",
   "execution_count": 14,
   "id": "89cc8956",
   "metadata": {},
   "outputs": [
    {
     "name": "stdout",
     "output_type": "stream",
     "text": [
      "['perro', 'loro', 'conejo', 'oso']\n"
     ]
    }
   ],
   "source": [
    "animales = [\"perro\", \"gato\", \"conejo\", \"pez\"] \n",
    "animales[1]=\"loro\"\n",
    "animales[-1]=\"oso\"\n",
    "print(animales)"
   ]
  },
  {
   "cell_type": "markdown",
   "id": "0a20248b",
   "metadata": {},
   "source": [
    "5) Analizar el siguiente programa y explicar con tus palabras qué es lo que realiza.\n",
    "\n",
    "Elimina el numero mas alto y luego imprime la lista actualizada"
   ]
  },
  {
   "cell_type": "code",
   "execution_count": 15,
   "id": "edada8ea",
   "metadata": {},
   "outputs": [
    {
     "name": "stdout",
     "output_type": "stream",
     "text": [
      "[8, 15, 3, 7]\n"
     ]
    }
   ],
   "source": [
    "lista5=[8,15,3,22,7]\n",
    "lista5.remove(max(lista5))\n",
    "print(lista5)"
   ]
  },
  {
   "cell_type": "markdown",
   "id": "dcbbe65b",
   "metadata": {},
   "source": [
    "\n",
    "6) Crear una lista con números del 10 al 30 (incluído), haciendo saltos de 5 en 5 y mostrar por \n",
    "pantalla los dos primeros. "
   ]
  },
  {
   "cell_type": "code",
   "execution_count": 18,
   "id": "a45eb7d2",
   "metadata": {},
   "outputs": [
    {
     "name": "stdout",
     "output_type": "stream",
     "text": [
      "[10, 15]\n"
     ]
    }
   ],
   "source": [
    "lista6= list(range(10,31,5))\n",
    "print(lista6[:2])"
   ]
  },
  {
   "cell_type": "markdown",
   "id": "04acefc6",
   "metadata": {},
   "source": [
    "7) Reemplazar los dos valores centrales (índices 1 y 2) de la lista “autos” por dos nuevos valores \n",
    "cualesquiera. \n",
    "autos = [\"sedan\", \"polo\", \"suran\", \"gol\"] "
   ]
  },
  {
   "cell_type": "code",
   "execution_count": 21,
   "id": "18ffec81",
   "metadata": {},
   "outputs": [
    {
     "name": "stdout",
     "output_type": "stream",
     "text": [
      "['sedan', 52, False, 'gol']\n"
     ]
    }
   ],
   "source": [
    "autos = [\"sedan\", \"polo\", \"suran\", \"gol\"] \n",
    "autos[1]=52\n",
    "autos[2]=False\n",
    "print(autos)"
   ]
  },
  {
   "cell_type": "markdown",
   "id": "877ad211",
   "metadata": {},
   "source": [
    "8) Crear una lista vacía llamada \"dobles\" y agregar el doble de 5, 10 y 15 usando append \n",
    "directamente. Imprimir la lista resultante por pantalla. "
   ]
  },
  {
   "cell_type": "code",
   "execution_count": 24,
   "id": "7dd0a44c",
   "metadata": {},
   "outputs": [
    {
     "name": "stdout",
     "output_type": "stream",
     "text": [
      "[10, 20, 30]\n"
     ]
    }
   ],
   "source": [
    "dobles=[]\n",
    "simple=[5,10,15]\n",
    "for i in simple:\n",
    "    dobles.append(i*2)\n",
    "print(dobles)"
   ]
  },
  {
   "cell_type": "markdown",
   "id": "476c917b",
   "metadata": {},
   "source": [
    "9) Dada la lista “compras”, cuyos elementos representan los productos comprados por \n",
    "diferentes clientes: \n",
    "compras = [[\"pan\", \"leche\"], [\"arroz\", \"fideos\", \"salsa\"],[\"agua\"]] \n",
    "a) Agregar \"jugo\" a la lista del tercer cliente usando append. \n",
    "b) Reemplazar \"fideos\" por \"tallarines\" en la lista del segundo cliente. \n",
    "c) Eliminar \"pan\" de la lista del primer cliente.  \n",
    "d) Imprimir la lista resultante por pantalla "
   ]
  },
  {
   "cell_type": "code",
   "execution_count": 34,
   "id": "286c0a34",
   "metadata": {},
   "outputs": [
    {
     "name": "stdout",
     "output_type": "stream",
     "text": [
      "a)  [['pan', 'leche'], ['arroz', 'fideos', 'salsa'], ['agua', 'jugo']]\n",
      "---------------------\n",
      "b)  [['pan', 'leche'], ['arroz', 'tallarines', 'salsa'], ['agua', 'jugo']]\n",
      "---------------------\n",
      "c)  [['leche'], ['arroz', 'tallarines', 'salsa'], ['agua', 'jugo']]\n",
      "---------------------\n"
     ]
    }
   ],
   "source": [
    "compras = [[\"pan\", \"leche\"], [\"arroz\", \"fideos\", \"salsa\"],[\"agua\"]] \n",
    "\n",
    "# a)\n",
    "compras[2].append(\"jugo\")\n",
    "print( \"a) \" , compras)\n",
    "print(\"---------------------\")\n",
    "# b)\n",
    "compras[1][1]=\"tallarines\"\n",
    "print( \"b) \" , compras)\n",
    "print(\"---------------------\")\n",
    "# c)\n",
    "compras[0].remove('pan')\n",
    "print( \"c) \" , compras)\n",
    "print(\"---------------------\")"
   ]
  },
  {
   "cell_type": "markdown",
   "id": "87e9cf3a",
   "metadata": {},
   "source": [
    "10) Elaborar una lista anidada llamada “lista_anidada” que contenga los siguientes elementos: \n",
    "● Posición lista_anidada[0]: 15 \n",
    "● Posición lista_anidada[1]: True \n",
    "● Posición lista_anidada[2][0]: 25.5 \n",
    "● Posición lista_anidada[2][1]: 57.9 \n",
    "● Posición lista_anidada[2][2]: 30.6 \n",
    "● Posición lista_anidada[3]: False \n",
    "Imprimir la lista resultante por pantalla."
   ]
  },
  {
   "cell_type": "code",
   "execution_count": 36,
   "id": "069788ce",
   "metadata": {},
   "outputs": [
    {
     "name": "stdout",
     "output_type": "stream",
     "text": [
      "[[15, True], [25.5, 57.9, 30.6], [False]]\n"
     ]
    }
   ],
   "source": [
    "\n",
    "lista_anidada1=[]\n",
    "lista_anidada2=[]\n",
    "lista_anidada3=[]\n",
    "lista_anidada1.append(15)\n",
    "lista_anidada1.append(True)\n",
    "lista_anidada2.append(25.5)\n",
    "lista_anidada2.append(57.9)\n",
    "lista_anidada2.append(30.6)\n",
    "lista_anidada3.append(False)\n",
    "lista_anidada=[lista_anidada1,lista_anidada2,lista_anidada3]\n",
    "print(lista_anidada)"
   ]
  }
 ],
 "metadata": {
  "kernelspec": {
   "display_name": "Python 3",
   "language": "python",
   "name": "python3"
  },
  "language_info": {
   "codemirror_mode": {
    "name": "ipython",
    "version": 3
   },
   "file_extension": ".py",
   "mimetype": "text/x-python",
   "name": "python",
   "nbconvert_exporter": "python",
   "pygments_lexer": "ipython3",
   "version": "3.11.9"
  }
 },
 "nbformat": 4,
 "nbformat_minor": 5
}
