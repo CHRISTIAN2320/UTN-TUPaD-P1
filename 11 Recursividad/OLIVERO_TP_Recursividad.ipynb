{
 "cells": [
  {
   "cell_type": "markdown",
   "id": "79a39f19",
   "metadata": {},
   "source": [
    "\n",
    "\n"
   ]
  },
  {
   "cell_type": "markdown",
   "id": "225303df",
   "metadata": {},
   "source": [
    "1) Crea una función recursiva que calcule el factorial de un número. Luego, utiliza esa función para calcular y mostrar en pantalla el factorial de todos los números enteros entre 1 y el número que indique el usuario"
   ]
  },
  {
   "cell_type": "code",
   "execution_count": 6,
   "id": "cdac323d",
   "metadata": {},
   "outputs": [
    {
     "name": "stdout",
     "output_type": "stream",
     "text": [
      "El factorial entre 1 y 4 es: 24\n"
     ]
    }
   ],
   "source": [
    "def factorial (num):\n",
    "    if num == 0:\n",
    "        return 1\n",
    "    else:\n",
    "        return num * factorial(num - 1)\n",
    "    \n",
    "#IMPLEMENTACION \n",
    "N=int(input(\"Ingrese un numero \"))\n",
    "print(f\"El factorial entre 1 y {N} es: {factorial(N)}\")"
   ]
  },
  {
   "cell_type": "markdown",
   "id": "9ae6bd12",
   "metadata": {},
   "source": [
    "2) Crea una función recursiva que calcule el valor de la serie de Fibonacci en la posición indicada. Posteriormente, muestra la serie completa hasta la posición que el usuario especifique."
   ]
  },
  {
   "cell_type": "code",
   "execution_count": 10,
   "id": "3b290f36",
   "metadata": {},
   "outputs": [
    {
     "name": "stdout",
     "output_type": "stream",
     "text": [
      "La serie de fubonacci hasta el numer 8 es: 21\n"
     ]
    }
   ],
   "source": [
    "def fibonacci(n):\n",
    "    if n == 0 or n == 1:\n",
    "        return n\n",
    "    else:\n",
    "        return fibonacci(n - 1) + fibonacci(n - 2)\n",
    "\n",
    "n=int(input(\"Ingrese un valor para analizar la serie de fibonacci:\"))\n",
    "print(f\"La serie de fubonacci hasta el numer {n} es: {fibonacci(n)}\")"
   ]
  },
  {
   "cell_type": "markdown",
   "id": "9b5c6572",
   "metadata": {},
   "source": [
    "3) Crea una función recursiva que calcule la potencia de un número base elevado a un exponente, utilizando la fórmula 𝑛^𝑚= 𝑛∗𝑛^(𝑚−1). Prueba esta función en un algoritmo general."
   ]
  },
  {
   "cell_type": "code",
   "execution_count": 23,
   "id": "c8a49e08",
   "metadata": {},
   "outputs": [
    {
     "name": "stdout",
     "output_type": "stream",
     "text": [
      "10000\n"
     ]
    }
   ],
   "source": [
    "def potencia(n,m):\n",
    "    if (m) == 0 :\n",
    "        return 1 \n",
    "    else: \n",
    "        return n * potencia(n,m-1)\n",
    "\n",
    "n=int(input(\"Ingrese base: \"))\n",
    "m=int(input(\"Ingrese exponente: \"))\n",
    "print(potencia(n,m))"
   ]
  },
  {
   "cell_type": "markdown",
   "id": "df130002",
   "metadata": {},
   "source": [
    "4) Crear una función recursiva en Python que reciba un número entero positivo en base decimal y devuelva su representación en binario como una cadena de texto."
   ]
  },
  {
   "cell_type": "code",
   "execution_count": 40,
   "id": "d29144e8",
   "metadata": {},
   "outputs": [
    {
     "name": "stdout",
     "output_type": "stream",
     "text": [
      "010\n"
     ]
    }
   ],
   "source": [
    "def obtener_binario(n):\n",
    "    if n== 0 :\n",
    "        return \"0\"\n",
    "    else:\n",
    "        return obtener_binario(n //  2) + str (n%2)\n",
    "        \n",
    "    \n",
    "print (obtener_binario(2))\n",
    "    # while cociente >=2:\n",
    "    #     cociente = n // 2\n",
    "    #     resto = n % 2\n",
    "    #     numero= str(resto)"
   ]
  },
  {
   "cell_type": "markdown",
   "id": "38e4f253",
   "metadata": {},
   "source": [
    "5) Implementá una función recursiva llamada es_palindromo(palabra) que reciba una cadena de texto sin espacios ni tildes, y devuelva True si es un palíndromo o False si no lo es.\n",
    "Requisitos:\n",
    "La solución debe ser recursiva.\n",
    "No se debe usar [::-1] ni la función reversed()."
   ]
  },
  {
   "cell_type": "code",
   "execution_count": null,
   "id": "9e039e3c",
   "metadata": {},
   "outputs": [
    {
     "name": "stdout",
     "output_type": "stream",
     "text": [
      "True\n",
      "False\n",
      "True\n"
     ]
    }
   ],
   "source": [
    "def es_palindromo(palabra):\n",
    "    # Caso base: si la palabra tiene 0 o 1 letra, es palíndromo\n",
    "    if len(palabra) <= 1:\n",
    "        return True\n",
    "    # Comparamos el primer y último carácter\n",
    "    if palabra[0] != palabra[-1]:\n",
    "        return False\n",
    "    # Llamada recursiva con la subcadena sin los extremos\n",
    "    return es_palindromo(palabra[1:-1])\n",
    "\n",
    "#Ejemplos\n",
    "print(es_palindromo(\"reconocer\"))\n",
    "print(es_palindromo(\"hola\"))\n",
    "print(es_palindromo(\"radar\"))"
   ]
  },
  {
   "cell_type": "markdown",
   "id": "aee174a2",
   "metadata": {},
   "source": [
    "6) Escribí una función recursiva en Python llamada suma_digitos(n) que reciba un número entero positivo y devuelva la suma de todos sus dígitos.\n",
    "Restricciones:\n",
    "No se puede convertir el número a string.\n",
    "Usá operaciones matemáticas (%, //) y recursión.\n",
    "Ejemplos:\n",
    "suma_digitos(1234) → 10 (1 + 2 + 3 + 4)\n",
    "suma_digitos(9) → 9\n",
    "suma_digitos(305) → 8 (3 + 0 + 5)"
   ]
  },
  {
   "cell_type": "code",
   "execution_count": 60,
   "id": "27fd2ad4",
   "metadata": {},
   "outputs": [
    {
     "name": "stdout",
     "output_type": "stream",
     "text": [
      "6\n"
     ]
    }
   ],
   "source": [
    "def suma_digitos(n) :\n",
    "    #caso base:\n",
    "    if n  < 10:\n",
    "        return n\n",
    "    else:\n",
    "        return suma_digitos(n//10) + (n%10)\n",
    "\n",
    "print(suma_digitos(123))"
   ]
  },
  {
   "cell_type": "markdown",
   "id": "c638c1b6",
   "metadata": {},
   "source": [
    "7) Un niño está construyendo una pirámide con bloques. En el nivel más bajo coloca n bloques, en el siguiente nivel uno menos (n - 1), y así sucesivamente hasta llegar al último nivel con un solo bloque.\n",
    "Escribí una función recursiva contar_bloques(n) que reciba el número de bloques en el nivel más bajo y devuelva el total de bloques que necesita para construir toda la pirámide.\n",
    "Ejemplos:\n",
    "contar_bloques(1) → 1 (1)\n",
    "contar_bloques(2) → 3 (2 + 1)\n",
    "contar_bloques(4) → 10 (4 + 3 + 2 + 1)"
   ]
  },
  {
   "cell_type": "code",
   "execution_count": 63,
   "id": "9c9ae456",
   "metadata": {},
   "outputs": [
    {
     "name": "stdout",
     "output_type": "stream",
     "text": [
      "10\n"
     ]
    }
   ],
   "source": [
    "def contar_bloques(n):\n",
    "    if n == 1:\n",
    "        return n   \n",
    "    else:\n",
    "        return n + contar_bloques(n-1)\n",
    "    \n",
    "print(contar_bloques(4))"
   ]
  },
  {
   "cell_type": "markdown",
   "id": "e3d84ce5",
   "metadata": {},
   "source": [
    "8) Escribí una función recursiva llamada contar_digito(numero, digito) que reciba un número entero positivo (numero) y un dígito (entre 0 y 9), y devuelva cuántas veces aparece ese dígito dentro del número.\n",
    "Ejemplos:\n",
    "contar_digito(12233421, 2) → 3\n",
    "contar_digito(5555, 5) → 4\n",
    "contar_digito(123456, 7) → 0"
   ]
  },
  {
   "cell_type": "code",
   "execution_count": 69,
   "id": "2e5eabee",
   "metadata": {},
   "outputs": [
    {
     "name": "stdout",
     "output_type": "stream",
     "text": [
      "2\n"
     ]
    }
   ],
   "source": [
    "def contar_digito(numero, digito):\n",
    "    numero = str(numero)\n",
    "    digito = str(digito)\n",
    "    \n",
    "    if len(numero) == 0:\n",
    "        return 0\n",
    "    if numero[0] == digito:\n",
    "        return 1 + contar_digito(numero[1:], digito)\n",
    "    else:\n",
    "        return contar_digito(numero[1:], digito)\n",
    "\n",
    "\n",
    "\n",
    "print(contar_digito(1123,1))"
   ]
  }
 ],
 "metadata": {
  "kernelspec": {
   "display_name": "Python 3",
   "language": "python",
   "name": "python3"
  },
  "language_info": {
   "codemirror_mode": {
    "name": "ipython",
    "version": 3
   },
   "file_extension": ".py",
   "mimetype": "text/x-python",
   "name": "python",
   "nbconvert_exporter": "python",
   "pygments_lexer": "ipython3",
   "version": "3.11.9"
  }
 },
 "nbformat": 4,
 "nbformat_minor": 5
}
