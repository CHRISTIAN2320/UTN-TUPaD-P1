{
 "cells": [
  {
   "cell_type": "markdown",
   "metadata": {},
   "source": [
    "1) Escribir un programa que solicite la edad del usuario. Si el usuario es mayor de 18 años,\n",
    "deberá mostrar un mensaje en pantalla que diga “Es mayor de edad”."
   ]
  },
  {
   "cell_type": "code",
   "execution_count": null,
   "metadata": {},
   "outputs": [],
   "source": [
    "edad=int(input(\"Ingrese su Edad\"))\n",
    "if edad>=18:\n",
    "    print(\"Es mayor de edad\")\n"
   ]
  },
  {
   "cell_type": "markdown",
   "metadata": {},
   "source": [
    "2) Escribir un programa que solicite su nota al usuario. Si la nota es mayor o igual a 6, deberá\n",
    "mostrar por pantalla un mensaje que diga “Aprobado”; en caso contrario deberá mostrar el\n",
    "mensaje “Desaprobado”.\n"
   ]
  },
  {
   "cell_type": "code",
   "execution_count": null,
   "metadata": {},
   "outputs": [],
   "source": [
    "nota_usuario=int(input(\"Ingrese su NOTA\"))\n",
    "if nota_usuario>=6:\n",
    "    print(\"APROBADO\")\n",
    "else : \n",
    "    print(\"DESAPROBADO\")"
   ]
  },
  {
   "cell_type": "markdown",
   "metadata": {},
   "source": [
    "3) Escribir un programa que permita ingresar solo números pares. Si el usuario ingresa un\n",
    "número par, imprimir por en pantalla el mensaje \"Ha ingresado un número par\"; en caso\n",
    "contrario, imprimir por pantalla \"Por favor, ingrese un número par\". Nota: investigar el uso del\n",
    "operador de módulo (%) en Python para evaluar si un número es par o impar"
   ]
  },
  {
   "cell_type": "code",
   "execution_count": null,
   "metadata": {},
   "outputs": [],
   "source": [
    "numero=int(input(\"INGRESE UN NÚMERO\"))         ## Ingreso un numero\n",
    "if numero%2==0 :                               ## Evaluo la condicion \n",
    "    print(\"Ha ingresado un número par \")\n",
    "else:\n",
    "    print(\"Por favor, ingrese un número par\")"
   ]
  },
  {
   "cell_type": "markdown",
   "metadata": {},
   "source": [
    "4) Escribir un programa que solicite al usuario su edad e imprima por pantalla a cuál de las\n",
    "siguientes categorías pertenece:\n",
    "\n",
    "    ● Niño/a: menor de 12 años.\n",
    "    ● Adolescente: mayor o igual que 12 años y menor que 18 años.\n",
    "    ● Adulto/a joven: mayor o igual que 18 años y menor que 30 años.\n",
    "    ● Adulto/a: mayor o igual que 30 años.\n"
   ]
  },
  {
   "cell_type": "code",
   "execution_count": null,
   "metadata": {},
   "outputs": [],
   "source": [
    "edad=int(input(\"Ingrese su Edad\"))\n",
    "if edad<12:\n",
    "    print(\"ES UN NIÑO\")\n",
    "elif edad>=12 and edad<18:\n",
    "    print(\"ES UN ADOLESCENTE\")\n",
    "elif edad>=18 and edad<30 :\n",
    "    print(\"ES UN ADULTO JOVEN\")\n",
    "else :\n",
    "    print(\"ES UN ADULTO\")\n"
   ]
  },
  {
   "cell_type": "markdown",
   "metadata": {},
   "source": [
    "5) Escribir un programa que permita introducir contraseñas de entre 8 y 14 caracteres\n",
    "(incluyendo 8 y 14). Si el usuario ingresa una contraseña de longitud adecuada, imprimir por en\n",
    "pantalla el mensaje \"Ha ingresado una contraseña correcta\"; en caso contrario, imprimir por\n",
    "pantalla \"Por favor, ingrese una contraseña de entre 8 y 14 caracteres\". Nota: investigue el uso\n",
    "de la función len() en Python para evaluar la cantidad de elementos que tiene un iterable tal\n",
    "como una lista o un string"
   ]
  },
  {
   "cell_type": "code",
   "execution_count": null,
   "metadata": {},
   "outputs": [],
   "source": [
    "contraseña=input(\"INGRESE CONTRASEÑA: \")\n",
    "if len(contraseña)>=8 and len(contraseña)<=14:\n",
    "    print(\"Ha ingresado una contraseña correcta\")\n",
    "else:\n",
    "    print(\"Por favor, ingrese una contraseña de entre 8 y 14 caracteres\")"
   ]
  },
  {
   "cell_type": "markdown",
   "metadata": {},
   "source": [
    "6) escribir un programa que tome la lista\n",
    "numeros_aleatorios, calcule su moda, su mediana y su media y las compare para determinar si\n",
    "hay sesgo positivo, negativo o no hay sesgo. Imprimir el resultado por pantalla.\n",
    "Definir la lista numeros_aleatorios de la siguiente forma:"
   ]
  },
  {
   "cell_type": "code",
   "execution_count": null,
   "metadata": {},
   "outputs": [],
   "source": [
    "import random\n",
    "numeros_aleatorios = [random.randint(1, 100) for i in range(50)]\n",
    "from statistics import mode, median, mean\n",
    "print(\"La moda es : \" , int(mode(numeros_aleatorios)))\n",
    "print(\"La mediana es: \" , int(median(numeros_aleatorios)))\n",
    "print(\"La media es: \" , int(mean(numeros_aleatorios)))\n"
   ]
  },
  {
   "cell_type": "markdown",
   "metadata": {},
   "source": [
    "7) Escribir un programa que solicite una frase o palabra al usuario. Si el string ingresado\n",
    "termina con vocal, añadir un signo de exclamación al final e imprimir el string resultante por\n",
    "pantalla; en caso contrario, dejar el string tal cual lo ingresó el usuario e imprimirlo por\n",
    "pantalla.\n"
   ]
  },
  {
   "cell_type": "code",
   "execution_count": null,
   "metadata": {},
   "outputs": [],
   "source": [
    "frase=input(\"INGRESE FRASE:\")\n",
    "if frase[-1]== 'a' or frase[-1]=='A':\n",
    "    frase+='!'\n",
    "elif frase[-1]== 'e' or frase[-1]=='E':\n",
    "    frase+='!'\n",
    "elif frase[-1]== 'i' or frase[-1]=='I':\n",
    "    frase+='!'\n",
    "elif frase[-1]== 'o' or frase[-1]=='O':\n",
    "    frase+='!'\n",
    "elif frase[-1]== 'u' or frase[-1]=='U':\n",
    "    frase+='!'\n",
    "\n",
    "print(frase)"
   ]
  },
  {
   "cell_type": "markdown",
   "metadata": {},
   "source": [
    "# OTRA FORMA:"
   ]
  },
  {
   "cell_type": "code",
   "execution_count": null,
   "metadata": {},
   "outputs": [],
   "source": [
    "# Solicitar una frase o palabra al usuario\n",
    "texto = input(\"Ingrese una frase o palabra: \")\n",
    "\n",
    "# Definir las vocales\n",
    "vocales = \"aeiouAEIOU\"\n",
    "\n",
    "# Verificar si el último carácter es una vocal\n",
    "if texto[-1] in vocales:\n",
    "    texto += \"!\"\n",
    "\n",
    "# Imprimir el resultado\n",
    "print(\"Resultado:\", texto)\n"
   ]
  },
  {
   "cell_type": "markdown",
   "metadata": {},
   "source": [
    "8) Escribir un programa que solicite al usuario que ingrese su nombre y el número 1, 2 o 3\n",
    "dependiendo de la opción que desee:\n",
    "1. Si quiere su nombre en mayúsculas. Por ejemplo: PEDRO.\n",
    "2. Si quiere su nombre en minúsculas. Por ejemplo: pedro.\n",
    "3. Si quiere su nombre con la primera letra mayúscula. Por ejemplo: Pedro.\n",
    "El programa debe transformar el nombre ingresado de acuerdo a la opción seleccionada por el\n",
    "usuario e imprimir el resultado por pantalla. Nota: investigue uso de las funciones upper(),\n",
    "lower() y title() de Python para convertir entre mayúsculas y minúsculas.\n"
   ]
  },
  {
   "cell_type": "code",
   "execution_count": null,
   "metadata": {},
   "outputs": [],
   "source": [
    "nombre=input(\"INGRESE SU NOMBRE: \")\n",
    "numero=int(input(\"INGRESE UN NÚMERO (1,2,3)\"))\n",
    "if numero == 1 :\n",
    "    nombre=nombre.upper()   ##funcion para transformarlo en mayusculas\n",
    "elif numero==2:\n",
    "    nombre=nombre.lower()   ##funcion para transformarlo en minusculas\n",
    "elif numero==3:\n",
    "    nombre=nombre.title()   ## funcion para trasformar la primera letra en mayusculas\n",
    "else :\n",
    "    print(\"HA INGRESADO UN NUMERO INCORRECTO\")\n",
    "print(\"SU NOMBRE ES: \" , nombre)"
   ]
  },
  {
   "cell_type": "markdown",
   "metadata": {},
   "source": [
    "9) Escribir un programa que pida al usuario la magnitud de un terremoto, clasifique la\n",
    "magnitud en una de las siguientes categorías según la escala de Richter e imprima el resultado\n",
    "por pantalla:\n",
    "● Menor que 3: \"Muy leve\" (imperceptible).\n",
    "● Mayor o igual que 3 y menor que 4: \"Leve\" (ligeramente perceptible).\n",
    "● Mayor o igual que 4 y menor que 5: \"Moderado\" (sentido por personas, pero\n",
    "generalmente no causa daños).\n",
    "● Mayor o igual que 5 y menor que 6: \"Fuerte\" (puede causar daños en estructuras\n",
    "débiles).\n",
    "● Mayor o igual que 6 y menor que 7: \"Muy Fuerte\" (puede causar daños significativos).\n",
    "● Mayor o igual que 7: \"Extremo\" (puede causar graves daños a gran escala).\n"
   ]
  },
  {
   "cell_type": "code",
   "execution_count": null,
   "metadata": {},
   "outputs": [],
   "source": [
    "magnitud=int(input(\"INGRESE LA MAGNITUD\"))\n",
    "if magnitud < 3 :\n",
    "    print(\"Muy leve (imperceptible)\")\n",
    "elif magnitud>=3 and magnitud<4:\n",
    "    print(\"Leve (ligeramente perceptible)\")\n",
    "elif magnitud>=4 and magnitud<5:\n",
    "    print(\"Moderado (sentido por personas, pero generalmente no causa daños)\")\n",
    "elif magnitud>=5 and magnitud<6:\n",
    "    print(\"Fuerte (puede causar daños en estructuras débiles)\")\n",
    "elif magnitud>=6 and magnitud<7:\n",
    "    print(\"Muy Fuerte (puede causar daños significativos).\")\n",
    "else: \n",
    "    print(\"Extremo (puede causar graves daños a gran escala)\")"
   ]
  },
  {
   "attachments": {
    "image.png": {
     "image/png": "[encoded data removed]"
    }
   },
   "cell_type": "markdown",
   "metadata": {},
   "source": [
    "10) Utilizando la información aportada en la siguiente tabla sobre las estaciones del año\n",
    "\n",
    "![image.png](attachment:image.png)\n",
    "\n",
    "Escribir un programa que pregunte al usuario en cuál hemisferio se encuentra (N/S), qué mes\n",
    "del año es y qué día es. El programa deberá utilizar esa información para imprimir por pantalla\n",
    "si el usuario se encuentra en otoño, invierno, primavera o verano.\n"
   ]
  },
  {
   "cell_type": "code",
   "execution_count": 1,
   "metadata": {},
   "outputs": [
    {
     "name": "stdout",
     "output_type": "stream",
     "text": [
      "SE ENCUENTRA EN OTOÑO\n"
     ]
    }
   ],
   "source": [
    "hemisferio=input(\"EN CUÁL HEMISFERIO SE ENCUENTRA?(N/S): \").lower()\n",
    "mes=input(\"QUE MES DEL AÑO ES?: \").lower()\n",
    "dia= input(\"QUE DÍA ÉS?: \")\n",
    "if hemisferio=='n':   ## condicion para hemisferio norte\n",
    "    if (mes== 'diciembre' and dia>=21 ) or mes=='enero' or mes=='febrero' or (mes=='marzo' and dia<=20) :\n",
    "        print(\"SE ENCUENTRA EN INVIERNO\")\n",
    "    elif (mes== 'marzo' and dia>=21 ) or mes=='abril' or mes=='mayo' or (mes=='junio' and dia<=20) :\n",
    "        print(\"SE ENCUENTRA EN PRIMAVERA\")\n",
    "    elif (mes== 'junio' and dia>=21 ) or mes=='julio' or mes=='agosto' or (mes=='septiembre' and dia<=20) :\n",
    "        print(\"SE ENCUENTRA EN VERANO\")\n",
    "    elif (mes== 'septiembre' and dia>=21 ) or mes=='octubre' or mes=='noviembre' or (mes=='diciembre' and dia<=20) :\n",
    "        print(\"SE ENCUENTRA EN OTOÑO\")\n",
    "\n",
    "elif hemisferio=='s': ## condicion para hemisferio sur\n",
    "    if (mes== 'diciembre' and dia>=21 ) or mes=='enero' or mes=='febrero' or (mes=='marzo' and dia<=20) :\n",
    "        print(\"SE ENCUENTRA EN VERANO\")\n",
    "    elif (mes== 'marzo' and dia>=21 ) or mes=='abril' or mes=='mayo' or (mes=='junio' and dia<=20) :\n",
    "        print(\"SE ENCUENTRA EN OTOÑO\")\n",
    "    elif (mes== 'junio' and dia>=21 ) or mes=='julio' or mes=='agosto' or (mes=='septiembre' and dia<=20) :\n",
    "        print(\"SE ENCUENTRA EN INVIERNO\")\n",
    "    elif (mes== 'septiembre' and dia>=21 ) or mes=='octubre' or mes=='noviembre' or (mes=='diciembre' and dia<=20) :\n",
    "        print(\"SE ENCUENTRA EN PRIMAVERA\")\n",
    "else:\n",
    "    print(\"Ha ingresado un hemisferio equivocado\")\n",
    "    "
   ]
  }
 ],
 "metadata": {
  "kernelspec": {
   "display_name": "Python 3",
   "language": "python",
   "name": "python3"
  },
  "language_info": {
   "codemirror_mode": {
    "name": "ipython",
    "version": 3
   },
   "file_extension": ".py",
   "mimetype": "text/x-python",
   "name": "python",
   "nbconvert_exporter": "python",
   "pygments_lexer": "ipython3",
   "version": "3.11.9"
  }
 },
 "nbformat": 4,
 "nbformat_minor": 2
}
