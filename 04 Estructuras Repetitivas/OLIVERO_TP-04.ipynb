{
 "cells": [
  {
   "cell_type": "markdown",
   "id": "ed0e79a3",
   "metadata": {},
   "source": [
    " 1) Crea un programa que imprima en pantalla todos los números enteros desde 0 hasta 100\n",
    "  (incluyendo ambos extremos), en orden creciente, mostrando un número por línea."
   ]
  },
  {
   "cell_type": "code",
   "execution_count": null,
   "id": "b571e6ea",
   "metadata": {},
   "outputs": [],
   "source": [
    "for i in range(0, 101,):\n",
    "    print(i)"
   ]
  },
  {
   "cell_type": "markdown",
   "id": "4afa0871",
   "metadata": {},
   "source": [
    "2) Desarrolla un programa que solicite al usuario un número entero y determine la cantidad de\n",
    " dígitos que contiene."
   ]
  },
  {
   "cell_type": "code",
   "execution_count": null,
   "id": "d393eefe",
   "metadata": {},
   "outputs": [
    {
     "name": "stdout",
     "output_type": "stream",
     "text": [
      "La cantidad de cifras que tiene el numero es:  2\n"
     ]
    }
   ],
   "source": [
    "numero=input(\"Ingrese un número entero:\")  #Tomamos el numero como un string para usar el comando len()\n",
    "\n",
    "if numero[0] == \"-\" :  #CONDICION POR SI NUMERO ES NEGATIVO\n",
    "    numero= numero[1:]\n",
    "cantidad_numeros=len(numero)\n",
    "print(\"La cantidad de cifras que tiene el numero es: \", cantidad_numeros)"
   ]
  },
  {
   "cell_type": "code",
   "execution_count": null,
   "id": "e23e687e",
   "metadata": {},
   "outputs": [
    {
     "name": "stdout",
     "output_type": "stream",
     "text": [
      "La cantidad de cifras que tiene el numero es:  2\n"
     ]
    }
   ],
   "source": [
    "#OTRA FORMA\n",
    "\n",
    "numero=int(input(\"Ingrese un numero: \"))\n",
    "numero=abs(numero)  # condicion para nunmeros negativos\n",
    "cantidad_digitos=0\n",
    "while numero> 0 :\n",
    "    numero = numero // 10 #lo dividimos en 10 y descartamos la parte decimal con //\n",
    "    cantidad_digitos+=1   # por cada vez que se haga la division será una cifra que tenga \n",
    "\n",
    "print(\"La cantidad de cifras que tiene el numero es: \", cantidad_digitos)"
   ]
  },
  {
   "cell_type": "markdown",
   "id": "9d789d33",
   "metadata": {},
   "source": [
    "3) Escribe un programa que sume todos los números enteros comprendidos entre dos valores\n",
    "dados por el usuario, excluyendo esos dos valores."
   ]
  },
  {
   "cell_type": "code",
   "execution_count": 3,
   "id": "e05ccb1e",
   "metadata": {},
   "outputs": [
    {
     "name": "stdout",
     "output_type": "stream",
     "text": [
      "La suma de todos los numeros entre 10 y 5 es: 0\n"
     ]
    }
   ],
   "source": [
    "numero1=int(input(\"Ingrese numero 1: \"))\n",
    "numero2=int(input(\"Ingrese numero 2: \"))\n",
    "suma=0\n",
    "for i in range(numero1 + 1,numero2 ):\n",
    "    suma+=i\n",
    "print(f\"La suma de todos los numeros entre {numero1} y {numero2} es: {suma}\")"
   ]
  },
  {
   "cell_type": "markdown",
   "id": "5ec8c5ff",
   "metadata": {},
   "source": [
    "4) Elabora un programa que permita al usuario ingresar números enteros y los sume en\n",
    "secuencia. El programa debe detenerse y mostrar el total acumulado cuando el usuario ingrese\n",
    "un 0."
   ]
  },
  {
   "cell_type": "code",
   "execution_count": 4,
   "id": "b1f87dd2",
   "metadata": {},
   "outputs": [
    {
     "name": "stdout",
     "output_type": "stream",
     "text": [
      "El total acumulado es: 28\n"
     ]
    }
   ],
   "source": [
    "numero=int(input(\"Ingrese un numero\"))\n",
    "suma=0\n",
    "while numero!=0:\n",
    "    suma+=numero\n",
    "    numero=int(input(\"Ingrese un numero\"))\n",
    "print(f\"El total acumulado es: {suma}\")"
   ]
  },
  {
   "cell_type": "markdown",
   "id": "4bbfc0b1",
   "metadata": {},
   "source": [
    "5) Crea un juego en el que el usuario deba adivinar un número aleatorio entre 0 y 9. Al final, el\n",
    "programa debe mostrar cuántos intentos fueron necesarios para acertar el número."
   ]
  },
  {
   "cell_type": "code",
   "execution_count": 6,
   "id": "2eed4108",
   "metadata": {},
   "outputs": [
    {
     "name": "stdout",
     "output_type": "stream",
     "text": [
      "Adivino el numero: 1 con 7 intentos\n"
     ]
    }
   ],
   "source": [
    "import random\n",
    "numero = random.randint(0, 9)  # genera un número entre 1 y 10 (incluyendo ambos)\n",
    "prediccion=int(input(\"Adivine el numero\"))\n",
    "intentos=0\n",
    "while numero!=prediccion:\n",
    "    intentos+=1\n",
    "    prediccion=int(input(\"Adivine el numero\"))\n",
    "print(f\"Adivino el numero: {numero} con {intentos} intentos\")"
   ]
  },
  {
   "cell_type": "markdown",
   "id": "a48f0a76",
   "metadata": {},
   "source": [
    "6) Desarrolla un programa que imprima en pantalla todos los números pares comprendidos\n",
    "entre 0 y 100, en orden decreciente."
   ]
  },
  {
   "cell_type": "code",
   "execution_count": 7,
   "id": "d2f89560",
   "metadata": {},
   "outputs": [
    {
     "name": "stdout",
     "output_type": "stream",
     "text": [
      "100\n",
      "98\n",
      "96\n",
      "94\n",
      "92\n",
      "90\n",
      "88\n",
      "86\n",
      "84\n",
      "82\n",
      "80\n",
      "78\n",
      "76\n",
      "74\n",
      "72\n",
      "70\n",
      "68\n",
      "66\n",
      "64\n",
      "62\n",
      "60\n",
      "58\n",
      "56\n",
      "54\n",
      "52\n",
      "50\n",
      "48\n",
      "46\n",
      "44\n",
      "42\n",
      "40\n",
      "38\n",
      "36\n",
      "34\n",
      "32\n",
      "30\n",
      "28\n",
      "26\n",
      "24\n",
      "22\n",
      "20\n",
      "18\n",
      "16\n",
      "14\n",
      "12\n",
      "10\n",
      "8\n",
      "6\n",
      "4\n",
      "2\n"
     ]
    }
   ],
   "source": [
    "for i in range(100,0,-2):\n",
    "    print(i)"
   ]
  },
  {
   "cell_type": "markdown",
   "id": "1a6d8105",
   "metadata": {},
   "source": [
    "7) Crea un programa que calcule la suma de todos los números comprendidos entre 0 y un\n",
    "número entero positivo indicado por el usuario."
   ]
  },
  {
   "cell_type": "code",
   "execution_count": 9,
   "id": "1db654ee",
   "metadata": {},
   "outputs": [
    {
     "name": "stdout",
     "output_type": "stream",
     "text": [
      "La suma es: 15\n"
     ]
    }
   ],
   "source": [
    "numero=int(input(\"Ingrese un numero\"))\n",
    "suma=0\n",
    "for i in range(0,numero+1):\n",
    "    suma+=i\n",
    "print(f\"La suma es: {suma}\")"
   ]
  },
  {
   "cell_type": "markdown",
   "id": "71b4631c",
   "metadata": {},
   "source": [
    "8) Escribe un programa que permita al usuario ingresar 100 números enteros. Luego, el\n",
    "programa debe indicar cuántos de estos números son pares, cuántos son impares, cuántos son\n",
    "negativos y cuántos son positivos. (Nota: para probar el programa puedes usar una cantidad\n",
    "menor, pero debe estar preparado para procesar 100 números con un solo cambio)."
   ]
  },
  {
   "cell_type": "code",
   "execution_count": 11,
   "id": "e731312a",
   "metadata": {},
   "outputs": [
    {
     "name": "stdout",
     "output_type": "stream",
     "text": [
      "Los numeros pares son : 4\n",
      "Los numeros Impares son: 6\n",
      "los numeros positivos son: 5\n",
      "los numeros negativos son: 5\n"
     ]
    }
   ],
   "source": [
    "pares=0\n",
    "impares=0\n",
    "positivos=0\n",
    "negativos=0\n",
    "for i in range(0,10):\n",
    "    numero=int(input(\"ingrese un numero\"))\n",
    "    if numero % 2 == 0 :\n",
    "        pares+=1\n",
    "    else:\n",
    "        impares+=1\n",
    "    if numero > 0 :\n",
    "        positivos+=1\n",
    "    else:\n",
    "        negativos+=1\n",
    "print(f\"Los numeros pares son : {pares}\") \n",
    "print(f\"Los numeros Impares son: {impares}\")\n",
    "print(f\"los numeros positivos son: {positivos}\")\n",
    "print(f\"los numeros negativos son: {negativos}\")\n",
    "\n",
    "\n",
    "\n"
   ]
  },
  {
   "cell_type": "markdown",
   "id": "1d50625f",
   "metadata": {},
   "source": [
    "9) Elabora un programa que permita al usuario ingresar 100 números enteros y luego calcule la\n",
    "media de esos valores. (Nota: puedes probar el programa con una cantidad menor, pero debe\n",
    "poder procesar 100 números cambiando solo un valor)."
   ]
  },
  {
   "cell_type": "code",
   "execution_count": 16,
   "id": "b8748c65",
   "metadata": {},
   "outputs": [
    {
     "name": "stdout",
     "output_type": "stream",
     "text": [
      "La media de los numeros es 3.0\n"
     ]
    }
   ],
   "source": [
    "cantidad=int(input(\"Ingrese cantidad\"))\n",
    "suma=0\n",
    "for i in range(cantidad):\n",
    "    numero=int(input(\"Ingrese un numero\"))\n",
    "    suma+=numero\n",
    "media=suma/cantidad\n",
    "print(f\"La media de los numeros es {media}\")"
   ]
  },
  {
   "cell_type": "markdown",
   "id": "c56193db",
   "metadata": {},
   "source": [
    "10) Escribe un programa que invierta el orden de los dígitos de un número ingresado por el\n",
    "usuario. Ejemplo: si el usuario ingresa 547, el programa debe mostrar 745."
   ]
  },
  {
   "cell_type": "code",
   "execution_count": 19,
   "id": "bbc9fc47",
   "metadata": {},
   "outputs": [
    {
     "name": "stdout",
     "output_type": "stream",
     "text": [
      "Número invertido: 058\n"
     ]
    }
   ],
   "source": [
    "numero = input(\"Ingresa un número: \")\n",
    "\n",
    "numero_invertido = numero[::-1]\n",
    "\n",
    "print(\"Número invertido:\", numero_invertido)\n"
   ]
  }
 ],
 "metadata": {
  "kernelspec": {
   "display_name": "Python 3",
   "language": "python",
   "name": "python3"
  },
  "language_info": {
   "codemirror_mode": {
    "name": "ipython",
    "version": 3
   },
   "file_extension": ".py",
   "mimetype": "text/x-python",
   "name": "python",
   "nbconvert_exporter": "python",
   "pygments_lexer": "ipython3",
   "version": "3.11.9"
  }
 },
 "nbformat": 4,
 "nbformat_minor": 5
}
