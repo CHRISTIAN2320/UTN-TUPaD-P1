{
 "cells": [
  {
   "cell_type": "markdown",
   "id": "8527b1e4",
   "metadata": {},
   "source": [
    "1. Crear una función llamada imprimir_hola_mundo que imprima por\n",
    "pantalla el mensaje: “Hola Mundo!”. Llamar a esta función desde el\n",
    "programa principal."
   ]
  },
  {
   "cell_type": "code",
   "execution_count": 2,
   "id": "3e7dfcc5",
   "metadata": {},
   "outputs": [
    {
     "name": "stdout",
     "output_type": "stream",
     "text": [
      "Hola Mundo!\n"
     ]
    }
   ],
   "source": [
    "#FUNCION\n",
    "def imprimir_hola_mundo():\n",
    "    print(\"Hola Mundo!\")\n",
    "\n",
    "#PROGRAMA PRINCIPAL\n",
    "imprimir_hola_mundo()"
   ]
  },
  {
   "cell_type": "markdown",
   "id": "850e012a",
   "metadata": {},
   "source": [
    "2. Crear una función llamada saludar_usuario(nombre) que reciba\n",
    "como parámetro un nombre y devuelva un saludo personalizado.\n",
    "Por ejemplo, si se llama con saludar_usuario(\"Marcos\"), deberá devolver: “Hola Marcos!”. Llamar a esta función desde el programa\n",
    "principal solicitando el nombre al usuario."
   ]
  },
  {
   "cell_type": "code",
   "execution_count": 3,
   "id": "e144d3f8",
   "metadata": {},
   "outputs": [
    {
     "name": "stdout",
     "output_type": "stream",
     "text": [
      "Hola Christian!\n"
     ]
    }
   ],
   "source": [
    "#FUNCION \n",
    "def saludar_usuario(Nombre):\n",
    "    print(f\"Hola {Nombre}!\")\n",
    "\n",
    "#PROGRAMA PRINCIPAL\n",
    "nombre=input(\"Ingrese su Nombre: \")\n",
    "saludar_usuario(nombre)"
   ]
  },
  {
   "cell_type": "markdown",
   "id": "2887d959",
   "metadata": {},
   "source": [
    "3. Crear una función llamada informacion_personal(nombre, apellido, edad, residencia) que reciba cuatro parámetros e imprima: “Soy\n",
    "[nombre] [apellido], tengo [edad] años y vivo en [residencia]”. Pedir los datos al usuario y llamar a esta función con los valores ingresados."
   ]
  },
  {
   "cell_type": "code",
   "execution_count": 5,
   "id": "5d82ba43",
   "metadata": {},
   "outputs": [
    {
     "name": "stdout",
     "output_type": "stream",
     "text": [
      "Soy aaa bbb, tengo 456 años y vivo en fff.\n"
     ]
    }
   ],
   "source": [
    "#DEFINICION DE FUNCIONES\n",
    "def informacion_personal(nombre,apellido,edad,residencia):\n",
    "    print(f\"Soy {nombre} {apellido}, tengo {edad} años y vivo en {residencia}.\")\n",
    "\n",
    "#PROGRAMA PRINCIPAL:\n",
    "nombre = input(\"Ingrese su Nombre: \")\n",
    "apellido = input(\"Ingrese su Apellido\")\n",
    "edad = input(\"Ingrese su edad\")\n",
    "residencia = input(\"Ingrese su residencia\")\n",
    "\n",
    "informacion_personal(nombre, apellido, edad, residencia)"
   ]
  },
  {
   "cell_type": "markdown",
   "id": "a2bb4656",
   "metadata": {},
   "source": [
    "4. Crear dos funciones: calcular_area_circulo(radio) que reciba el radio como parámetro y devuelva el área del círculo. calcular_perimetro_circulo(radio) que reciba el radio como parámetro y devuelva el perímetro del círculo. Solicitar el radio al usuario y llamar ambas funciones para mostrar los resultados."
   ]
  },
  {
   "cell_type": "code",
   "execution_count": null,
   "id": "a3380756",
   "metadata": {},
   "outputs": [
    {
     "name": "stdout",
     "output_type": "stream",
     "text": [
      "El Área del círculo es 706.86\n",
      "El perimetro del círculo es 94.24\n"
     ]
    }
   ],
   "source": [
    "#DECLARACION DE FUNCIONES\n",
    "import math\n",
    "\n",
    "def calcular_area_circulo(radio):\n",
    "    print(f\"El Área del círculo es {round((math.pi*radio**2)/0.02)*0.02}\")   #round (valor/0.02)*0.02 reduce a dos centimos los decimales \n",
    "\n",
    "def calcular_perimetro_circulo(radio):\n",
    "    print(f\"El perimetro del círculo es {round((math.pi*radio*2)/0.02)*0.02}\")\n",
    "\n",
    "\n",
    "#PROGRAMA PRINCIPAL\n",
    "radio=int(input(\"Ingrese el radio del circulo: \"))\n",
    "calcular_area_circulo(radio)\n",
    "calcular_perimetro_circulo(radio)\n"
   ]
  },
  {
   "cell_type": "markdown",
   "id": "f1035f72",
   "metadata": {},
   "source": [
    "5. Crear una función llamada segundos_a_horas(segundos) que reciba una cantidad de segundos como parámetro y devuelva la cantidad de horas correspondientes. Solicitar al usuario los segundos y mostrar el resultado usando esta función."
   ]
  },
  {
   "cell_type": "code",
   "execution_count": 14,
   "id": "89f3019f",
   "metadata": {},
   "outputs": [
    {
     "name": "stdout",
     "output_type": "stream",
     "text": [
      "La cantidad de horas es : 1.0\n"
     ]
    }
   ],
   "source": [
    "#DECLARACION DE FUNCINOES\n",
    "def segundos_a_horas(segundos):\n",
    "    return segundos/3600 \n",
    "\n",
    "\n",
    "#PROGRAMA PRINCIPAL\n",
    "segundos=int(input(\"Ingrese la cantidad de segundos : \"))\n",
    "horas=segundos_a_horas(segundos)\n",
    "print(f\"La cantidad de horas es : {horas}\")"
   ]
  },
  {
   "cell_type": "markdown",
   "id": "80ad89ff",
   "metadata": {},
   "source": [
    "6. Crear una función llamada tabla_multiplicar(numero) que reciba un\n",
    "número como parámetro y imprima la tabla de multiplicar de ese\n",
    "número del 1 al 10. Pedir al usuario el número y llamar a la función."
   ]
  },
  {
   "cell_type": "code",
   "execution_count": 16,
   "id": "1d22fc5a",
   "metadata": {},
   "outputs": [
    {
     "name": "stdout",
     "output_type": "stream",
     "text": [
      "1 x 2 = 2\n",
      "2 x 2 = 4\n",
      "3 x 2 = 6\n",
      "4 x 2 = 8\n",
      "5 x 2 = 10\n",
      "6 x 2 = 12\n",
      "7 x 2 = 14\n",
      "8 x 2 = 16\n",
      "9 x 2 = 18\n",
      "10 x 2 = 20\n"
     ]
    }
   ],
   "source": [
    "#DEFINICION DE FUNCIONES\n",
    "def tabla_multiplicar(numero):\n",
    "    for i in range(1,11):\n",
    "        print(f\"{i} x {numero} = {i*numero}\")\n",
    "\n",
    "#PROGRAMA PRINCIPAL\n",
    "numero= int(input(\"Ingrese un numero: \"))\n",
    "tabla_multiplicar(numero)\n"
   ]
  },
  {
   "cell_type": "markdown",
   "id": "45ab2a9d",
   "metadata": {},
   "source": [
    "7. Crear una función llamada operaciones_basicas(a, b) que reciba dos números como parámetros y devuelva una tupla con el resultado de sumarlos, restarlos, multiplicarlos y dividirlos. Mostrar los resultados de forma clara."
   ]
  },
  {
   "cell_type": "code",
   "execution_count": 17,
   "id": "d9f5722a",
   "metadata": {},
   "outputs": [
    {
     "name": "stdout",
     "output_type": "stream",
     "text": [
      "La suma de los dos numeros es: 11\n",
      "La resta de los dos numeros es: -1\n",
      "La multiplicación de los dos numeros es: 30\n",
      "La división de los dos numeros es: 0.8333333333333334\n"
     ]
    }
   ],
   "source": [
    "#DECLARACION DE FUNCIONES\n",
    "def operaciones_basicas(a, b):\n",
    "    print(f\"La suma de los dos numeros es: {a+b}\")\n",
    "    print(f\"La resta de los dos numeros es: {a-b}\")\n",
    "    print(f\"La multiplicación de los dos numeros es: {a*b}\")\n",
    "    print(f\"La división de los dos numeros es: {a/b}\")\n",
    "\n",
    "\n",
    "\n",
    "\n",
    "#PROGRAMA PRINCIPAL\n",
    "a=int(input(\"Ingrese el primer numero: \"))\n",
    "b=int(input(\"Ingrese el segundo numero: \"))\n",
    "operaciones_basicas(a,b)"
   ]
  },
  {
   "cell_type": "markdown",
   "id": "1bd8a95f",
   "metadata": {},
   "source": [
    "8. Crear una función llamada calcular_imc(peso, altura) que reciba el\n",
    "peso en kilogramos y la altura en metros, y devuelva el índice de\n",
    "masa corporal (IMC). Solicitar al usuario los datos y llamar a la función para mostrar el resultado con dos decimales."
   ]
  },
  {
   "cell_type": "code",
   "execution_count": 19,
   "id": "cf27e78d",
   "metadata": {},
   "outputs": [
    {
     "name": "stdout",
     "output_type": "stream",
     "text": [
      "El indice de masa corporal es: 40.7\n"
     ]
    }
   ],
   "source": [
    "#DECLARACION DE FUNCIONES\n",
    "def calcular_imc(peso, altura):\n",
    "    print(f\"El indice de masa corporal es: {round(peso/altura/0.02)*0.02}\")\n",
    "\n",
    "#PROGRAMA PRINCIPAL:\n",
    "peso=int(input(\"Ingrese su peso: \"))\n",
    "altura=float(input(\"Ingrese su altura: \"))\n",
    "calcular_imc(peso,altura)"
   ]
  },
  {
   "cell_type": "markdown",
   "id": "a03c0f0a",
   "metadata": {},
   "source": [
    "9. Crear una función llamada celsius_a_fahrenheit(celsius) que reciba una temperatura en grados Celsius y devuelva su equivalente en\n",
    "Fahrenheit. Pedir al usuario la temperatura en Celsius y mostrar el resultado usando la función.\n"
   ]
  },
  {
   "cell_type": "code",
   "execution_count": 23,
   "id": "8c468f34",
   "metadata": {},
   "outputs": [
    {
     "name": "stdout",
     "output_type": "stream",
     "text": [
      "La temperatura en grados farenheit es: 68.0 ºf\n"
     ]
    }
   ],
   "source": [
    "#FUNCION \n",
    "def celsius_a_fahrenheit(celsius):\n",
    "    print(f\"La temperatura en grados farenheit es: {(celsius* 9/5) + 32} ºf\")\n",
    "\n",
    "\n",
    "#PROGRAMA PRINCIPAL\n",
    "grados=float(input(\"Ingrese temperatura en grados celsius:\"))\n",
    "celsius_a_fahrenheit(grados)"
   ]
  },
  {
   "cell_type": "markdown",
   "id": "34080802",
   "metadata": {},
   "source": [
    "10. Crear una función llamada calcular_promedio(a, b, c) que reciba tres números como parámetros y devuelva el promedio de ellos.\n",
    "Solicitar los números al usuario y mostrar el resultado usando esta función."
   ]
  },
  {
   "cell_type": "code",
   "execution_count": 24,
   "id": "ba87b115",
   "metadata": {},
   "outputs": [
    {
     "name": "stdout",
     "output_type": "stream",
     "text": [
      "El promedio de los numeros es: 2.0\n"
     ]
    }
   ],
   "source": [
    "#DECLARACION DE FUNCIONES\n",
    "def calcular_promedio(a, b, c):\n",
    "    print(f\"El promedio de los numeros es: {(a+b+c)/3}\")\n",
    "\n",
    "#PROGRAMA PRINCIPAL\n",
    "a=int(input(\"Ingrese el primer numero: \"))\n",
    "b=int(input(\"Ingrese el segundo numero: \"))\n",
    "c=int(input(\"Ingrese el tercer numero: \"))\n",
    "\n",
    "calcular_promedio(a,b,c)"
   ]
  }
 ],
 "metadata": {
  "kernelspec": {
   "display_name": "Python 3",
   "language": "python",
   "name": "python3"
  },
  "language_info": {
   "codemirror_mode": {
    "name": "ipython",
    "version": 3
   },
   "file_extension": ".py",
   "mimetype": "text/x-python",
   "name": "python",
   "nbconvert_exporter": "python",
   "pygments_lexer": "ipython3",
   "version": "3.11.9"
  }
 },
 "nbformat": 4,
 "nbformat_minor": 5
}
